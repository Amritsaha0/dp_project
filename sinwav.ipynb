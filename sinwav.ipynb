{
 "cells": [
  {
   "cell_type": "code",
   "execution_count": 1,
   "id": "12105a5f",
   "metadata": {},
   "outputs": [
    {
     "name": "stdout",
     "output_type": "stream",
     "text": [
      "✅ Sine wave saved as 'sine_test.wav'\n"
     ]
    }
   ],
   "source": [
    "import numpy as np\n",
    "from scipy.io.wavfile import write\n",
    "\n",
    "# === Configuration ===\n",
    "duration = 3.0        # seconds\n",
    "frequency = 440.0     # Hz (A4 tone)\n",
    "sample_rate = 44100   # samples per second\n",
    "amplitude = 0.5       # max 1.0\n",
    "\n",
    "# === Generate Sine Wave ===\n",
    "t = np.linspace(0, duration, int(sample_rate * duration), endpoint=False)\n",
    "wave = amplitude * np.sin(2 * np.pi * frequency * t)\n",
    "\n",
    "# === Convert to 16-bit PCM and Save ===\n",
    "wave_int16 = (wave * 32767).astype(np.int16)\n",
    "write(\"sine_test.wav\", sample_rate, wave_int16)\n",
    "\n",
    "print(\"✅ Sine wave saved as 'sine_test.wav'\")\n"
   ]
  },
  {
   "cell_type": "code",
   "execution_count": null,
   "id": "45848277",
   "metadata": {},
   "outputs": [],
   "source": []
  }
 ],
 "metadata": {
  "kernelspec": {
   "display_name": "Python 3 (ipykernel)",
   "language": "python",
   "name": "python3"
  },
  "language_info": {
   "codemirror_mode": {
    "name": "ipython",
    "version": 3
   },
   "file_extension": ".py",
   "mimetype": "text/x-python",
   "name": "python",
   "nbconvert_exporter": "python",
   "pygments_lexer": "ipython3",
   "version": "3.11.5"
  }
 },
 "nbformat": 4,
 "nbformat_minor": 5
}
